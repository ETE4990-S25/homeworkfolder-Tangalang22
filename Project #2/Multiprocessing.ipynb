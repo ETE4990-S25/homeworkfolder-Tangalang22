{
 "cells": [
  {
   "cell_type": "code",
   "execution_count": 52,
   "metadata": {},
   "outputs": [
    {
     "name": "stdout",
     "output_type": "stream",
     "text": [
      "prime is:  390449\n",
      "<Process name='Process-5' parent=4500 initial>\n",
      "<Process name='Process-6' parent=4500 initial>\n",
      "Finished job in:  1124344.4803391 seconds\n"
     ]
    }
   ],
   "source": [
    "from datetime import datetime, timedelta\n",
    "import multiprocessing\n",
    "from math import factorial\n",
    "import time\n",
    "\n",
    "def is_prime(n):\n",
    "    if n <= 1:\n",
    "        return False\n",
    "    for i in range(2, int(n ** 0.5) + 1):\n",
    "        if n % i == 0:\n",
    "            return False\n",
    "    return True\n",
    "\n",
    "\n",
    "def find_prime(time):\n",
    "    end_time = datetime.now() + timedelta(seconds = time)\n",
    "    x = 0 #start of prime iterator\n",
    "    while datetime.now() < end_time:\n",
    "        prime_check = is_prime(x)\n",
    "        if prime_check == True:\n",
    "            prime = x\n",
    "        x += 1\n",
    "    return prime\n",
    "\n",
    "def find_fib():\n",
    "    a = 0\n",
    "    b = 1\n",
    "    c = 0\n",
    "    fib = 0\n",
    "    while fib < optimusprime:\n",
    "        fib = a + b\n",
    "        c = a #c is for the final result because fib would return one iteration above what i wanted\n",
    "        a = b\n",
    "        b = fib\n",
    "        #print (fib)\n",
    "    return fib - c\n",
    "\n",
    "def find_fact():\n",
    "    factbase = 0\n",
    "    factresult = 0\n",
    "    while factresult < optimusprime:\n",
    "        factbase += 1\n",
    "        factresult = factorial(factbase - 1)\n",
    "        if factresult >= optimusprime:\n",
    "            break\n",
    "    print(\"\")\n",
    "    return factresult\n",
    "\n",
    "#optimusprime = find_prime(1)\n",
    "#print(\"prime is: \", optimusprime)\n",
    "#fibonacci = find_fib()\n",
    "#print(\"fibonacci is: \", fibonacci)\n",
    "#fact_prime = find_fact()\n",
    "#print(\"factorial is: \", fact_prime)\n",
    "\n",
    "p1 = multiprocessing.Process(target = find_fib)\n",
    "p2 = multiprocessing.Process(target = find_fact)\n",
    "\n",
    "if __name__ == '__main__':\n",
    "    optimusprime = find_prime(1)\n",
    "    print(\"prime is: \", optimusprime)\n",
    "    p1.start\n",
    "    p2.start\n",
    "    print(p1)\n",
    "    print(p2)\n",
    "\n",
    "processtime = time.perf_counter()\n",
    "print(\"Finished job in: \", processtime, \"seconds\")\n"
   ]
  }
 ],
 "metadata": {
  "kernelspec": {
   "display_name": "Python 3",
   "language": "python",
   "name": "python3"
  },
  "language_info": {
   "codemirror_mode": {
    "name": "ipython",
    "version": 3
   },
   "file_extension": ".py",
   "mimetype": "text/x-python",
   "name": "python",
   "nbconvert_exporter": "python",
   "pygments_lexer": "ipython3",
   "version": "3.13.1"
  }
 },
 "nbformat": 4,
 "nbformat_minor": 2
}
