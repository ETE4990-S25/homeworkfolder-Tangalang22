{
 "cells": [
  {
   "cell_type": "markdown",
   "metadata": {},
   "source": [
    "Your name goes here Pleaese"
   ]
  },
  {
   "cell_type": "markdown",
   "metadata": {},
   "source": [
    "## Objective:\n",
    "The objective of this assignment is to practice using Functional Programing.\n",
    "\n",
    "## Instructions:\n",
    "\n",
    "Using everything we learned to day about Functional Programing, lambda and itters create one of each of the following:\n",
    "-  Basic Lambda Function\n",
    "    - Create a lambda function that takes one arguments and returns even or odd.\n",
    "- Advanced lambda Function\n",
    "    - Create a lambda function that takes a list and returns their sum \n",
    "- Sorting with Lambda\n",
    "- Filtering with Lambda - `filter()` \n",
    "- Mapping with Lambda - `map()`\n",
    "- Reducing with Lambda -  `reduce()` \n",
    "- Enumerate with or without Lambda - `enumerate()`\n",
    "- zip with or without lambda (may combine enumerate like in class) - `zip()`\n",
    "\n",
    "Submit the file as a .py \n",
    "\n",
    "\n"
   ]
  },
  {
   "cell_type": "markdown",
   "metadata": {},
   "source": []
  },
  {
   "cell_type": "code",
   "execution_count": 4,
   "metadata": {},
   "outputs": [
    {
     "name": "stdout",
     "output_type": "stream",
     "text": [
      "1\n",
      "The number you inputted is odd!\n"
     ]
    }
   ],
   "source": [
    "def basic():\n",
    "    remainder = lambda x: x%2\n",
    "    argument = int(input(\"Enter a number: \"))\n",
    "    if remainder(argument) == 0:\n",
    "        print(\"The number you inputted is even!\")\n",
    "    else:\n",
    "        print(\"The number you inputted is odd!\")\n",
    "\n",
    "basic()"
   ]
  },
  {
   "cell_type": "code",
   "execution_count": 1,
   "metadata": {},
   "outputs": [
    {
     "data": {
      "text/plain": [
       "144"
      ]
     },
     "execution_count": 1,
     "metadata": {},
     "output_type": "execute_result"
    }
   ],
   "source": [
    "def advanced(array):\n",
    "    listsum = lambda a: sum(a)\n",
    "\n",
    "sum([5, 7, 42 ,90])"
   ]
  },
  {
   "cell_type": "code",
   "execution_count": 2,
   "metadata": {},
   "outputs": [
    {
     "data": {
      "text/plain": [
       "[8, 31, 56, 67, 809]"
      ]
     },
     "execution_count": 2,
     "metadata": {},
     "output_type": "execute_result"
    }
   ],
   "source": [
    "sorting = lambda a: sorted(a)\n",
    "\n",
    "sorted([56, 809, 31, 67, 8])\n"
   ]
  },
  {
   "cell_type": "code",
   "execution_count": 4,
   "metadata": {},
   "outputs": [
    {
     "name": "stdout",
     "output_type": "stream",
     "text": [
      "[4, 52, 78]\n"
     ]
    }
   ],
   "source": [
    "blist = [67, 901, 4, 52, 67, 78]\n",
    "evennumbers = filter(lambda b: b%2 ==0, blist)\n",
    "print(list(evennumbers))"
   ]
  },
  {
   "cell_type": "code",
   "execution_count": 5,
   "metadata": {},
   "outputs": [
    {
     "name": "stdout",
     "output_type": "stream",
     "text": [
      "[1156, 4, 14641, 3136]\n"
     ]
    }
   ],
   "source": [
    "numbers = [34, 2, 121, 56]\n",
    "squares = list(map(lambda x: x * x, numbers))\n",
    "print(list(squares))"
   ]
  },
  {
   "cell_type": "code",
   "execution_count": 1,
   "metadata": {},
   "outputs": [
    {
     "name": "stdout",
     "output_type": "stream",
     "text": [
      "85\n"
     ]
    }
   ],
   "source": [
    "from functools import reduce\n",
    "\n",
    "wisp = [23, 24, 6, 32] #the list is called wisp cuz wisp is an artist i've listened to and it sounds like list\n",
    "totalsum = reduce(lambda x, y: x + y, wisp)\n",
    "print(totalsum)"
   ]
  },
  {
   "cell_type": "code",
   "execution_count": 2,
   "metadata": {},
   "outputs": [
    {
     "name": "stdout",
     "output_type": "stream",
     "text": [
      "[(0, 'C414'), (1, 'V7x'), (2, 'WA-47jr'), (3, 'I5'), (4, 'D6'), (5, 'AT4033a')]\n"
     ]
    }
   ],
   "source": [
    "enumeration = lambda x: list(enumerate(x))\n",
    "microphones = [\"C414\", \"V7x\", \"WA-47jr\", \"I5\", \"D6\", \"AT4033a\"]\n",
    "print(enumeration(microphones))"
   ]
  },
  {
   "cell_type": "code",
   "execution_count": 2,
   "metadata": {},
   "outputs": [
    {
     "name": "stdout",
     "output_type": "stream",
     "text": [
      "[('Jokic', 15), ('Doncic', 77), ('Powell', 24), ('Kawamura', 17)]\n"
     ]
    }
   ],
   "source": [
    "players = [\"Jokic\", \"Doncic\", \"Powell\", \"Kawamura\"]\n",
    "jerseynumber = [15, 77, 24, 17]\n",
    "\n",
    "yippee = zip(players, jerseynumber)\n",
    "print(list(yippee))"
   ]
  }
 ],
 "metadata": {
  "kernelspec": {
   "display_name": "Python 3",
   "language": "python",
   "name": "python3"
  },
  "language_info": {
   "codemirror_mode": {
    "name": "ipython",
    "version": 3
   },
   "file_extension": ".py",
   "mimetype": "text/x-python",
   "name": "python",
   "nbconvert_exporter": "python",
   "pygments_lexer": "ipython3",
   "version": "3.13.2"
  }
 },
 "nbformat": 4,
 "nbformat_minor": 2
}
