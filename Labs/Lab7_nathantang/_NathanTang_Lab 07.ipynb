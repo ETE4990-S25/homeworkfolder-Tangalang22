{
 "cells": [
  {
   "cell_type": "markdown",
   "metadata": {},
   "source": [
    "Your name goes here Pleaese"
   ]
  },
  {
   "cell_type": "markdown",
   "metadata": {},
   "source": [
    "## Lab Objective:\n",
    "Create a Python script that recursively searches a file system for files with identical names. Perform a comparison on files and output the file paths of identical files.\n",
    "\n",
    "\n",
    "## Required tasks\n",
    "1. A menu\n",
    "- this should be fairly easy seeing as your games (should) already have a menu system\n",
    "2. Recursive Search\n",
    "- a recursive search is a search that will travel into a folder and back out.\n",
    "3. Comparison\n",
    "- I recommend using a check sum comparison operation like MD5 or SHA-256\n",
    "4. Output\n",
    "- the program will output files and there directories\n",
    "- this can be done live or after\n",
    "\n",
    "\n",
    "## Instructions:\n",
    "Submit the file as a .py show it running in a .ipynb file\n",
    "\n",
    "\n",
    "\n",
    "Please find some sample code below to get you started"
   ]
  },
  {
   "cell_type": "code",
   "execution_count": null,
   "metadata": {},
   "outputs": [
    {
     "name": "stdout",
     "output_type": "stream",
     "text": [
      "\n",
      "--- File Duplicate Finder ---\n",
      "1. Enter directory to search\n",
      "2. Exit\n",
      "[{'path': 'C:\\\\Users\\\\Nathan\\\\Desktop\\\\homeworkfolder-Tangalang22\\\\Labs\\\\Lab7_nathantang\\\\Lab 07 Lecture.ipynb', 'filename': 'Lab 07 Lecture.ipynb', 'checksum': '7b25bf23eed471f5818e5cca1699ee64'}, {'path': 'C:\\\\Users\\\\Nathan\\\\Desktop\\\\homeworkfolder-Tangalang22\\\\Labs\\\\Lab7_nathantang\\\\_NathanTang_Lab 07.ipynb', 'filename': '_NathanTang_Lab 07.ipynb', 'checksum': 'c3fb3f3c4a741d1a99130ca3ae2e2ccd'}]\n",
      "[{'path': 'C:\\\\Users\\\\Nathan\\\\Desktop\\\\homeworkfolder-Tangalang22\\\\Labs\\\\Lab7_nathantang\\\\Lab 07 Lecture.ipynb', 'filename': 'Lab 07 Lecture.ipynb', 'checksum': '7b25bf23eed471f5818e5cca1699ee64'}, {'path': 'C:\\\\Users\\\\Nathan\\\\Desktop\\\\homeworkfolder-Tangalang22\\\\Labs\\\\Lab7_nathantang\\\\_NathanTang_Lab 07.ipynb', 'filename': '_NathanTang_Lab 07.ipynb', 'checksum': 'c3fb3f3c4a741d1a99130ca3ae2e2ccd'}, {'path': 'C:\\\\Users\\\\Nathan\\\\Desktop\\\\homeworkfolder-Tangalang22\\\\Labs\\\\Lab7_nathantang\\\\folder1\\\\yippee.txt', 'filename': 'yippee.txt', 'checksum': 'd41d8cd98f00b204e9800998ecf8427e'}]\n",
      "[{'path': 'C:\\\\Users\\\\Nathan\\\\Desktop\\\\homeworkfolder-Tangalang22\\\\Labs\\\\Lab7_nathantang\\\\Lab 07 Lecture.ipynb', 'filename': 'Lab 07 Lecture.ipynb', 'checksum': '7b25bf23eed471f5818e5cca1699ee64'}, {'path': 'C:\\\\Users\\\\Nathan\\\\Desktop\\\\homeworkfolder-Tangalang22\\\\Labs\\\\Lab7_nathantang\\\\_NathanTang_Lab 07.ipynb', 'filename': '_NathanTang_Lab 07.ipynb', 'checksum': 'c3fb3f3c4a741d1a99130ca3ae2e2ccd'}, {'path': 'C:\\\\Users\\\\Nathan\\\\Desktop\\\\homeworkfolder-Tangalang22\\\\Labs\\\\Lab7_nathantang\\\\folder1\\\\yippee.txt', 'filename': 'yippee.txt', 'checksum': 'd41d8cd98f00b204e9800998ecf8427e'}, {'path': 'C:\\\\Users\\\\Nathan\\\\Desktop\\\\homeworkfolder-Tangalang22\\\\Labs\\\\Lab7_nathantang\\\\folder2\\\\yippee.txt', 'filename': 'yippee.txt', 'checksum': 'd41d8cd98f00b204e9800998ecf8427e'}]\n",
      "[{'path': 'C:\\\\Users\\\\Nathan\\\\Desktop\\\\homeworkfolder-Tangalang22\\\\Labs\\\\Lab7_nathantang\\\\Lab 07 Lecture.ipynb', 'filename': 'Lab 07 Lecture.ipynb', 'checksum': '7b25bf23eed471f5818e5cca1699ee64'}, {'path': 'C:\\\\Users\\\\Nathan\\\\Desktop\\\\homeworkfolder-Tangalang22\\\\Labs\\\\Lab7_nathantang\\\\_NathanTang_Lab 07.ipynb', 'filename': '_NathanTang_Lab 07.ipynb', 'checksum': 'c3fb3f3c4a741d1a99130ca3ae2e2ccd'}, {'path': 'C:\\\\Users\\\\Nathan\\\\Desktop\\\\homeworkfolder-Tangalang22\\\\Labs\\\\Lab7_nathantang\\\\folder1\\\\yippee.txt', 'filename': 'yippee.txt', 'checksum': 'd41d8cd98f00b204e9800998ecf8427e'}, {'path': 'C:\\\\Users\\\\Nathan\\\\Desktop\\\\homeworkfolder-Tangalang22\\\\Labs\\\\Lab7_nathantang\\\\folder2\\\\yippee.txt', 'filename': 'yippee.txt', 'checksum': 'd41d8cd98f00b204e9800998ecf8427e'}, {'path': 'C:\\\\Users\\\\Nathan\\\\Desktop\\\\homeworkfolder-Tangalang22\\\\Labs\\\\Lab7_nathantang\\\\folder3\\\\no.txt', 'filename': 'no.txt', 'checksum': 'd41d8cd98f00b204e9800998ecf8427e'}]\n",
      "\n",
      "--- File Duplicate Finder ---\n",
      "1. Enter directory to search\n",
      "2. Exit\n",
      "Bad answer. Type something else\n",
      "\n",
      "--- File Duplicate Finder ---\n",
      "1. Enter directory to search\n",
      "2. Exit\n",
      "Bad answer. Type something else\n",
      "\n",
      "--- File Duplicate Finder ---\n",
      "1. Enter directory to search\n",
      "2. Exit\n",
      "Bad answer. Type something else\n",
      "\n",
      "--- File Duplicate Finder ---\n",
      "1. Enter directory to search\n",
      "2. Exit\n",
      "Bad answer. Type something else\n",
      "\n",
      "--- File Duplicate Finder ---\n",
      "1. Enter directory to search\n",
      "2. Exit\n",
      "Bad answer. Type something else\n",
      "\n",
      "--- File Duplicate Finder ---\n",
      "1. Enter directory to search\n",
      "2. Exit\n"
     ]
    }
   ],
   "source": [
    "import os\n",
    "import hashlib\n",
    "\n",
    "def menu():\n",
    "    while True:\n",
    "        print(\"\\n--- File Duplicate Finder ---\")\n",
    "        print(\"1. Enter directory to search\")\n",
    "        print(\"2. Exit\")\n",
    "        choice = input(\"Choose an option: \")\n",
    "        if choice == \"1\":\n",
    "            directory = input(\"What directory would you like to search for?\")\n",
    "            find_duplicates(directory)\n",
    "        elif choice == \"2:\":\n",
    "            break\n",
    "        else:\n",
    "            print(\"Bad answer. Type something else\")\n",
    "\n",
    "def find_duplicates(directory):\n",
    "    # search os.walk(directory):\n",
    "    paths = []\n",
    "    for root, _, files in os.walk(directory):\n",
    "        for file in files:\n",
    "            file_path = os.path.join(root, file)\n",
    "            paths.append(\n",
    "                {\n",
    "                    \"path\": file_path,\n",
    "                    \"filename\": file,\n",
    "                    \"checksum\": get_checksum(file_path)\n",
    "                }\n",
    "            )\n",
    "        print(paths)\n",
    "\n",
    "    # use a dictionary to store file names and paths\n",
    "    # compare files with the same name\n",
    "\n",
    "def get_checksum(file_path):\n",
    "    hash_obj = hashlib.md5()  # Change to hashlib.sha256() if desired\n",
    "    with open(file_path, 'rb') as f:\n",
    "        while chunk := f.read(8192):\n",
    "            hash_obj.update(chunk)\n",
    "    return hash_obj.hexdigest()\n",
    "\n",
    "\n",
    "if __name__ == \"__main__\":\n",
    "    menu()"
   ]
  },
  {
   "cell_type": "code",
   "execution_count": null,
   "metadata": {},
   "outputs": [],
   "source": []
  }
 ],
 "metadata": {
  "kernelspec": {
   "display_name": "Python 3",
   "language": "python",
   "name": "python3"
  },
  "language_info": {
   "codemirror_mode": {
    "name": "ipython",
    "version": 3
   },
   "file_extension": ".py",
   "mimetype": "text/x-python",
   "name": "python",
   "nbconvert_exporter": "python",
   "pygments_lexer": "ipython3",
   "version": "3.13.1"
  }
 },
 "nbformat": 4,
 "nbformat_minor": 2
}
