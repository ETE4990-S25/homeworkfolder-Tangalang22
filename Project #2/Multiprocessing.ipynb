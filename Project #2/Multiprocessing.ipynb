{
 "cells": [
  {
   "cell_type": "code",
   "execution_count": 5,
   "metadata": {},
   "outputs": [
    {
     "ename": "SyntaxError",
     "evalue": "invalid syntax. Maybe you meant '==' or ':=' instead of '='? (1009016373.py, line 27)",
     "output_type": "error",
     "traceback": [
      "\u001b[1;36m  Cell \u001b[1;32mIn[5], line 27\u001b[1;36m\u001b[0m\n\u001b[1;33m    a = 0, b = 1\u001b[0m\n\u001b[1;37m    ^\u001b[0m\n\u001b[1;31mSyntaxError\u001b[0m\u001b[1;31m:\u001b[0m invalid syntax. Maybe you meant '==' or ':=' instead of '='?\n"
     ]
    }
   ],
   "source": [
    "from datetime import datetime, timedelta\n",
    "import multiprocessing\n",
    "\n",
    "def is_prime(n):\n",
    "    if n <= 1:\n",
    "        return False\n",
    "    for i in range(2, int(n ** 0.5) + 1):\n",
    "        if n % i == 0:\n",
    "            return False\n",
    "    return True\n",
    "\n",
    "end_time = datetime.now() + timedelta(seconds = 3)\n",
    "optimusprime = 0\n",
    "fibonacci = 0\n",
    "factorial = 1\n",
    "\n",
    "def find_optimusprime():\n",
    "    x = 0 #start of prime iterator\n",
    "    while datetime.now() < end_time:\n",
    "        prime_check = is_prime(x)\n",
    "        if prime_check == True:\n",
    "            optimusprime = x\n",
    "            print(optimusprime)\n",
    "        x += 1\n",
    "\n",
    "def find_fib():\n",
    "    a = 0, b = 1\n",
    "    while fib < optimusprime:\n",
    "        fib = a + b\n",
    "        a += 1\n",
    "        b += 1\n",
    "    fib = fibonacci\n",
    "\n",
    "find_optimusprime()\n",
    "find_fib()\n",
    "\n"
   ]
  }
 ],
 "metadata": {
  "kernelspec": {
   "display_name": "Python 3",
   "language": "python",
   "name": "python3"
  },
  "language_info": {
   "codemirror_mode": {
    "name": "ipython",
    "version": 3
   },
   "file_extension": ".py",
   "mimetype": "text/x-python",
   "name": "python",
   "nbconvert_exporter": "python",
   "pygments_lexer": "ipython3",
   "version": "3.13.1"
  }
 },
 "nbformat": 4,
 "nbformat_minor": 2
}
