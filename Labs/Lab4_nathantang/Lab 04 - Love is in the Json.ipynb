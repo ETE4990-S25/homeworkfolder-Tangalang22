{
 "cells": [
  {
   "cell_type": "markdown",
   "metadata": {},
   "source": [
    "# Valentine's Day Lab Assignment\n",
    "Picking a Romantic Movie\n",
    "\n",
    "## Instructions:\n",
    "1. Download a dataset of romantic movies from a public dataset repository (e.g., Kaggle).\n",
    "   - Example dataset: \"Romantic Movies Dataset\" (ensure it's in JSON format).\n",
    "2. Load the dataset from the JSON file.\n",
    "3. Create a function that helps pick a romantic movie based on user preferences.\n",
    "4. Display the selected movie details.\n",
    "5. Verify the JSON file content\n",
    "\n"
   ]
  },
  {
   "cell_type": "code",
   "execution_count": null,
   "metadata": {},
   "outputs": [],
   "source": [
    "# Sample Code:\n",
    "min_rating = float(input(\"Enter the minimum rating (0-10): \"))\n",
    "max_year = int(input(\"Enter the latest release year: \"))\n",
    "\n",
    "selected_movie = pick_movie(data, min_rating, max_year)\n",
    "\n",
    "if isinstance(selected_movie, str):\n",
    "    print(selected_movie)\n",
    "else:\n",
    "    print(f\"Selected Movie: {selected_movie['Title']}\")\n",
    "    print(f\"Year: {selected_movie['Year']}\")\n",
    "    print(f\"Rating: {selected_movie['Rating']}\")\n",
    "    print(f\"Box Office: ${selected_movie['BoxOffice']} million\")"
   ]
  },
  {
   "cell_type": "code",
   "execution_count": 3,
   "metadata": {},
   "outputs": [
    {
     "name": "stdout",
     "output_type": "stream",
     "text": [
      "Here's the movies that meet the criteria:\n",
      "[{'Title': 'The Avengers', 'Year': '2012', 'Rated': 'PG-13', 'Released': '04 May 2012', 'Runtime': '143 min', 'Genre': 'Action, Sci-Fi, Thriller', 'Director': 'Joss Whedon', 'Writer': 'Joss Whedon (screenplay), Zak Penn (story), Joss Whedon (story)', 'Actors': 'Robert Downey Jr., Chris Evans, Mark Ruffalo, Chris Hemsworth', 'Plot': \"Earth's mightiest heroes must come together and learn to fight as a team if they are to stop the mischievous Loki and his alien army from enslaving humanity.\", 'Language': 'English, Russian', 'Country': 'USA', 'Awards': 'Nominated for 1 Oscar. Another 34 wins & 75 nominations.', 'Poster': 'http://ia.media-imdb.com/images/M/MV5BMTk2NTI1MTU4N15BMl5BanBnXkFtZTcwODg0OTY0Nw@@._V1_SX300.jpg', 'Metascore': '69', 'imdbRating': 8.1, 'imdbVotes': '1,003,301', 'imdbID': 'tt0848228', 'Type': 'movie', 'Response': 'True', 'Images': ['https://images-na.ssl-images-amazon.com/images/M/MV5BMTA0NjY0NzE4OTReQTJeQWpwZ15BbWU3MDczODg2Nzc@._V1_SX1777_CR0,0,1777,999_AL_.jpg', 'https://images-na.ssl-images-amazon.com/images/M/MV5BMjE1MzEzMjcyM15BMl5BanBnXkFtZTcwNDM4ODY3Nw@@._V1_SX1777_CR0,0,1777,999_AL_.jpg', 'https://images-na.ssl-images-amazon.com/images/M/MV5BMjMwMzM2MTg1M15BMl5BanBnXkFtZTcwNjM4ODY3Nw@@._V1_SX1777_CR0,0,1777,999_AL_.jpg', 'https://images-na.ssl-images-amazon.com/images/M/MV5BMTQ4NzM2Mjc5MV5BMl5BanBnXkFtZTcwMTkwOTY3Nw@@._V1_SX1777_CR0,0,1777,999_AL_.jpg', 'https://images-na.ssl-images-amazon.com/images/M/MV5BMTc3MzQ3NjA5N15BMl5BanBnXkFtZTcwMzY5OTY3Nw@@._V1_SX1777_CR0,0,1777,999_AL_.jpg']}, {'Title': 'The Wolf of Wall Street', 'Year': '2013', 'Rated': 'R', 'Released': '25 Dec 2013', 'Runtime': '180 min', 'Genre': 'Biography, Comedy, Crime', 'Director': 'Martin Scorsese', 'Writer': 'Terence Winter (screenplay), Jordan Belfort (book)', 'Actors': 'Leonardo DiCaprio, Jonah Hill, Margot Robbie, Matthew McConaughey', 'Plot': 'Based on the true story of Jordan Belfort, from his rise to a wealthy stock-broker living the high life to his fall involving crime, corruption and the federal government.', 'Language': 'English, French', 'Country': 'USA', 'Awards': 'Nominated for 5 Oscars. Another 35 wins & 154 nominations.', 'Poster': 'http://ia.media-imdb.com/images/M/MV5BMjIxMjgxNTk0MF5BMl5BanBnXkFtZTgwNjIyOTg2MDE@._V1_SX300.jpg', 'Metascore': '75', 'imdbRating': 8.2, 'imdbVotes': '786,985', 'imdbID': 'tt0993846', 'Type': 'movie', 'Response': 'True', 'Images': ['https://images-na.ssl-images-amazon.com/images/M/MV5BNDIwMDIxNzk3Ml5BMl5BanBnXkFtZTgwMTg0MzQ4MDE@._V1_SX1500_CR0,0,1500,999_AL_.jpg', 'https://images-na.ssl-images-amazon.com/images/M/MV5BMTc0NzAxODAyMl5BMl5BanBnXkFtZTgwMDg0MzQ4MDE@._V1_SX1500_CR0,0,1500,999_AL_.jpg', 'https://images-na.ssl-images-amazon.com/images/M/MV5BMTExMDk1MDE4NzVeQTJeQWpwZ15BbWU4MDM4NDM0ODAx._V1_SX1500_CR0,0,1500,999_AL_.jpg', 'https://images-na.ssl-images-amazon.com/images/M/MV5BMTg3MTY4NDk4Nl5BMl5BanBnXkFtZTgwNjc0MzQ4MDE@._V1_SX1500_CR0,0,1500,999_AL_.jpg', 'https://images-na.ssl-images-amazon.com/images/M/MV5BMTgzMTg4MDI0Ml5BMl5BanBnXkFtZTgwOTY0MzQ4MDE@._V1_SY1000_CR0,0,1553,1000_AL_.jpg']}, {'Title': 'Interstellar', 'Year': '2014', 'Rated': 'PG-13', 'Released': '07 Nov 2014', 'Runtime': '169 min', 'Genre': 'Adventure, Drama, Sci-Fi', 'Director': 'Christopher Nolan', 'Writer': 'Jonathan Nolan, Christopher Nolan', 'Actors': 'Ellen Burstyn, Matthew McConaughey, Mackenzie Foy, John Lithgow', 'Plot': \"A team of explorers travel through a wormhole in space in an attempt to ensure humanity's survival.\", 'Language': 'English', 'Country': 'USA, UK', 'Awards': 'Won 1 Oscar. Another 39 wins & 134 nominations.', 'Poster': 'http://ia.media-imdb.com/images/M/MV5BMjIxNTU4MzY4MF5BMl5BanBnXkFtZTgwMzM4ODI3MjE@._V1_SX300.jpg', 'Metascore': '74', 'imdbRating': 8.6, 'imdbVotes': '937,412', 'imdbID': 'tt0816692', 'Type': 'movie', 'Response': 'True', 'Images': ['https://images-na.ssl-images-amazon.com/images/M/MV5BMjA3NTEwOTMxMV5BMl5BanBnXkFtZTgwMjMyODgxMzE@._V1_SX1500_CR0,0,1500,999_AL_.jpg', 'https://images-na.ssl-images-amazon.com/images/M/MV5BMzQ5ODE2MzEwM15BMl5BanBnXkFtZTgwMTMyODgxMzE@._V1_SX1500_CR0,0,1500,999_AL_.jpg', 'https://images-na.ssl-images-amazon.com/images/M/MV5BMTg4Njk4MzY0Nl5BMl5BanBnXkFtZTgwMzIyODgxMzE@._V1_SX1500_CR0,0,1500,999_AL_.jpg', 'https://images-na.ssl-images-amazon.com/images/M/MV5BMzE3MTM0MTc3Ml5BMl5BanBnXkFtZTgwMDIyODgxMzE@._V1_SX1500_CR0,0,1500,999_AL_.jpg', 'https://images-na.ssl-images-amazon.com/images/M/MV5BNjYzNjE2NDk3N15BMl5BanBnXkFtZTgwNzEyODgxMzE@._V1_SX1500_CR0,0,1500,999_AL_.jpg']}, {'Title': 'Game of Thrones', 'Year': '2011â€“', 'Rated': 'TV-MA', 'Released': '17 Apr 2011', 'Runtime': '56 min', 'Genre': 'Adventure, Drama, Fantasy', 'Director': 'N/A', 'Writer': 'David Benioff, D.B. Weiss', 'Actors': 'Peter Dinklage, Lena Headey, Emilia Clarke, Kit Harington', 'Plot': 'While a civil war brews between several noble families in Westeros, the children of the former rulers of the land attempt to rise up to power. Meanwhile a forgotten race, bent on destruction, plans to return after thousands of years in the North.', 'Language': 'English', 'Country': 'USA, UK', 'Awards': 'Won 1 Golden Globe. Another 185 wins & 334 nominations.', 'Poster': 'http://ia.media-imdb.com/images/M/MV5BMjM5OTQ1MTY5Nl5BMl5BanBnXkFtZTgwMjM3NzMxODE@._V1_SX300.jpg', 'Metascore': 'N/A', 'imdbRating': 9.5, 'imdbVotes': '1,046,830', 'imdbID': 'tt0944947', 'Type': 'series', 'totalSeasons': '7', 'Response': 'True', 'Images': ['https://images-na.ssl-images-amazon.com/images/M/MV5BNDc1MGUyNzItNWRkOC00MjM1LWJjNjMtZTZlYWIxMGRmYzVlXkEyXkFqcGdeQXVyMzU3MDEyNjk@._V1_SX1777_CR0,0,1777,999_AL_.jpg', 'https://images-na.ssl-images-amazon.com/images/M/MV5BZjZkN2M5ODgtMjQ2OC00ZjAxLWE1MjMtZDE0OTNmNGM0NWEwXkEyXkFqcGdeQXVyNjUxNzgwNTE@._V1_SX1777_CR0,0,1777,999_AL_.jpg', 'https://images-na.ssl-images-amazon.com/images/M/MV5BMDk4Y2Y1MDAtNGVmMC00ZTlhLTlmMmQtYjcyN2VkNzUzZjg2XkEyXkFqcGdeQXVyNjUxNzgwNTE@._V1_SX1777_CR0,0,1777,999_AL_.jpg', 'https://images-na.ssl-images-amazon.com/images/M/MV5BNjZjNWIzMzQtZWZjYy00ZTkwLWJiMTYtOWRkZDBhNWJhY2JmXkEyXkFqcGdeQXVyMjk3NTUyOTc@._V1_SX1777_CR0,0,1777,999_AL_.jpg', 'https://images-na.ssl-images-amazon.com/images/M/MV5BNTMyMTRjZWEtM2UxMS00ZjU5LWIxMTYtZDA5YmJhZmRjYTc4XkEyXkFqcGdeQXVyMjk3NTUyOTc@._V1_SX1777_CR0,0,1777,999_AL_.jpg']}, {'Title': 'Vikings', 'Year': '2013â€“', 'Rated': 'TV-14', 'Released': '03 Mar 2013', 'Runtime': '44 min', 'Genre': 'Action, Drama, History', 'Director': 'N/A', 'Writer': 'Michael Hirst', 'Actors': 'Travis Fimmel, Clive Standen, Gustaf SkarsgÃ¥rd, Katheryn Winnick', 'Plot': 'The world of the Vikings is brought to life through the journey of Ragnar Lothbrok, the first Viking to emerge from Norse legend and onto the pages of history - a man on the edge of myth.', 'Language': 'English, Old English, Norse, Old, Latin', 'Country': 'Ireland, Canada', 'Awards': 'Nominated for 7 Primetime Emmys. Another 17 wins & 49 nominations.', 'Poster': 'http://ia.media-imdb.com/images/M/MV5BOTEzNzI3MDc0N15BMl5BanBnXkFtZTgwMzk1MzA5NzE@._V1_SX300.jpg', 'Metascore': 'N/A', 'imdbRating': 8.6, 'imdbVotes': '198,041', 'imdbID': 'tt2306299', 'Type': 'series', 'totalSeasons': '5', 'Response': 'True', 'Images': ['https://images-na.ssl-images-amazon.com/images/M/MV5BMjM5MTM1ODUxNV5BMl5BanBnXkFtZTgwNTAzOTI2ODE@._V1_.jpg', 'https://images-na.ssl-images-amazon.com/images/M/MV5BNzU2NDcxODMyOF5BMl5BanBnXkFtZTgwNDAzOTI2ODE@._V1_.jpg', 'https://images-na.ssl-images-amazon.com/images/M/MV5BMjMzMzIzOTU2M15BMl5BanBnXkFtZTgwODMzMTkyODE@._V1_SY1000_SX1500_AL_.jpg', 'https://images-na.ssl-images-amazon.com/images/M/MV5BMTQ2NTQ2MDA3NF5BMl5BanBnXkFtZTgwODkxMDUxODE@._V1_SY1000_SX1500_AL_.jpg', 'https://images-na.ssl-images-amazon.com/images/M/MV5BMTcxOTQ3NTA5N15BMl5BanBnXkFtZTgwMzExMDUxODE@._V1_SY1000_SX1500_AL_.jpg']}, {'Title': 'Narcos', 'Year': '2015â€“', 'Rated': 'TV-MA', 'Released': '28 Aug 2015', 'Runtime': '49 min', 'Genre': 'Biography, Crime, Drama', 'Director': 'N/A', 'Writer': 'Carlo Bernard, Chris Brancato, Doug Miro, Paul Eckstein', 'Actors': 'Wagner Moura, Boyd Holbrook, Pedro Pascal, Joanna Christie', 'Plot': 'A chronicled look at the criminal exploits of Colombian drug lord Pablo Escobar.', 'Language': 'English, Spanish', 'Country': 'USA', 'Awards': 'Nominated for 2 Golden Globes. Another 4 nominations.', 'Poster': 'http://ia.media-imdb.com/images/M/MV5BMTU0ODQ4NDg2OF5BMl5BanBnXkFtZTgwNzczNTE4OTE@._V1_SX300.jpg', 'Metascore': 'N/A', 'imdbRating': 8.9, 'imdbVotes': '118,680', 'imdbID': 'tt2707408', 'Type': 'series', 'totalSeasons': '2', 'Response': 'True', 'Images': ['https://images-na.ssl-images-amazon.com/images/M/MV5BMTk2MDMzMTc0MF5BMl5BanBnXkFtZTgwMTAyMzA1OTE@._V1_SX1500_CR0,0,1500,999_AL_.jpg', 'https://images-na.ssl-images-amazon.com/images/M/MV5BMjIxMDkyOTEyNV5BMl5BanBnXkFtZTgwNjY3Mjc3OTE@._V1_SY1000_SX1500_AL_.jpg', 'https://images-na.ssl-images-amazon.com/images/M/MV5BMjA2NDUwMTU2NV5BMl5BanBnXkFtZTgwNTI1Mzc3OTE@._V1_SY1000_CR0,0,1499,1000_AL_.jpg', 'https://images-na.ssl-images-amazon.com/images/M/MV5BODA1NjAyMTQ3Ml5BMl5BanBnXkFtZTgwNjI1Mzc3OTE@._V1_SY1000_CR0,0,1499,1000_AL_.jpg', 'https://images-na.ssl-images-amazon.com/images/M/MV5BMTU0NzQ0OTAwNl5BMl5BanBnXkFtZTgwMDAyMzA1OTE@._V1_SX1500_CR0,0,1500,999_AL_.jpg']}, {'Title': 'Breaking Bad', 'Year': '2008â€“2013', 'Rated': 'TV-14', 'Released': '20 Jan 2008', 'Runtime': '49 min', 'Genre': 'Crime, Drama, Thriller', 'Director': 'N/A', 'Writer': 'Vince Gilligan', 'Actors': 'Bryan Cranston, Anna Gunn, Aaron Paul, Dean Norris', 'Plot': \"A high school chemistry teacher diagnosed with inoperable lung cancer turns to manufacturing and selling methamphetamine in order to secure his family's financial future.\", 'Language': 'English, Spanish', 'Country': 'USA', 'Awards': 'Won 2 Golden Globes. Another 132 wins & 218 nominations.', 'Poster': 'http://ia.media-imdb.com/images/M/MV5BMTQ0ODYzODc0OV5BMl5BanBnXkFtZTgwMDk3OTcyMDE@._V1_SX300.jpg', 'Metascore': 'N/A', 'imdbRating': 9.5, 'imdbVotes': '889,883', 'imdbID': 'tt0903747', 'Type': 'series', 'totalSeasons': '5', 'Response': 'True', 'Images': ['https://images-na.ssl-images-amazon.com/images/M/MV5BMTgyMzI5NDc5Nl5BMl5BanBnXkFtZTgwMjM0MTI2MDE@._V1_SY1000_CR0,0,1498,1000_AL_.jpg', 'https://images-na.ssl-images-amazon.com/images/M/MV5BMTQ2NDkwNDk5NV5BMl5BanBnXkFtZTgwNDM0MTI2MDE@._V1_SY1000_CR0,0,1495,1000_AL_.jpg', 'https://images-na.ssl-images-amazon.com/images/M/MV5BMTM4NDcyNDMzMF5BMl5BanBnXkFtZTgwOTI0MTI2MDE@._V1_SY1000_CR0,0,1495,1000_AL_.jpg', 'https://images-na.ssl-images-amazon.com/images/M/MV5BMTAzMTczMjM3NjFeQTJeQWpwZ15BbWU4MDc1MTI1MzAx._V1_SY1000_CR0,0,1495,1000_AL_.jpg', 'https://images-na.ssl-images-amazon.com/images/M/MV5BMjA5MTE3MTgwMF5BMl5BanBnXkFtZTgwOTQxMjUzMDE@._V1_SX1500_CR0,0,1500,999_AL_.jpg']}]\n"
     ]
    }
   ],
   "source": [
    "import json\n",
    "\n",
    "with open('Film.json', 'r') as file:\n",
    "    movies = json.load(file)\n",
    "\n",
    "for movie in movies:\n",
    "    movie[\"imdbRating\"] = float(movie[\"imdbRating\"])\n",
    "#json didn't have every single imdb rating so i found the ratings online and filled them in, also had to convert all of the ratings to floats\n",
    "moviepool = []\n",
    "minrat = float(input(\"Enter the genre of movie you want to watch: \"))\n",
    "for movie in movies:\n",
    "   if movie[\"imdbRating\"] == \"N/A\":\n",
    "     break\n",
    "   if movie[\"imdbRating\"] > minrat:\n",
    "        moviepool.append(movie)\n",
    "print(\"Here's the movies that meet the criteria:\")\n",
    "print(moviepool)"
   ]
  }
 ],
 "metadata": {
  "kernelspec": {
   "display_name": "Python 3",
   "language": "python",
   "name": "python3"
  },
  "language_info": {
   "codemirror_mode": {
    "name": "ipython",
    "version": 3
   },
   "file_extension": ".py",
   "mimetype": "text/x-python",
   "name": "python",
   "nbconvert_exporter": "python",
   "pygments_lexer": "ipython3",
   "version": "3.13.1"
  }
 },
 "nbformat": 4,
 "nbformat_minor": 2
}
