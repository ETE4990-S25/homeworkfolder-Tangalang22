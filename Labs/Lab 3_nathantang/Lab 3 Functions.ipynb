{
 "cells": [
  {
   "cell_type": "markdown",
   "id": "abfb9ed7-bb94-48c3-88f0-6693f26b3f7c",
   "metadata": {},
   "source": [
    "# Lab 3 - Files and Functions\n"
   ]
  },
  {
   "cell_type": "markdown",
   "id": "5dd841b5-4e31-428c-a56b-5a74f1aa8c75",
   "metadata": {},
   "source": [
    "## Warm-up \n",
    "\n",
    "Part 1:\n",
    "Write a python file that can be imported.\n",
    "\n",
    "\n"
   ]
  },
  {
   "cell_type": "code",
   "execution_count": 5,
   "id": "9916dca4-e082-47ba-957a-d285cd0abce0",
   "metadata": {},
   "outputs": [
    {
     "name": "stdout",
     "output_type": "stream",
     "text": [
      "5\n"
     ]
    }
   ],
   "source": [
    "# Code goes here\n",
    "from imp import x\n",
    "print(x)"
   ]
  },
  {
   "cell_type": "markdown",
   "id": "5935273d",
   "metadata": {},
   "source": [
    "\n",
    "Part 2: \n",
    "Using the following as a starting point create a python file that will take in a a name and\n",
    "a list of names and tell you if that name is in the list."
   ]
  },
  {
   "cell_type": "code",
   "execution_count": 13,
   "id": "64949662",
   "metadata": {},
   "outputs": [
    {
     "name": "stdout",
     "output_type": "stream",
     "text": [
      "These are the names that matched: \n",
      "['Vax', 'Vex', 'Grog', 'Percy', 'Scanlan', 'Keyleth', 'Pike']\n"
     ]
    }
   ],
   "source": [
    "# Code goes here\n",
    "match = []\n",
    "from listofnames import names\n",
    "namecheck = [\"Vax\", \"Vex\", \"Grog\", \"Percy\", \"Scanlan\", \"Keyleth\", \"Pike\", \"Thaddeus\"]\n",
    "for names in names:\n",
    "    if names in namecheck:\n",
    "        match.append(names)\n",
    "print(\"These are the names that matched: \")\n",
    "print(match)"
   ]
  },
  {
   "cell_type": "markdown",
   "id": "bc4fbb46-483b-479b-97d5-82e2dc7f4346",
   "metadata": {},
   "source": [
    "# Main Lab\n",
    "\n",
    "Take time to begin working with your partner on your project. Begin to plan out how you would like your game to feel. Remember this is a text-based game. This can be any game you would like \n",
    "\n",
    "    Please stay away from games or software like poker or 21 as these tend to be boring to code and hard to add more to later on, and obviously games that may get you reported by the university.\n",
    "\n",
    "\n",
    "## Part 1:\n",
    "\n",
    "Divide up your code and begin  writing the code.\n",
    "\n",
    "Keep in mind that when you write your code you will need to be interfacing with your partners code, loading in your player, tools/items/etc, interfacing with the world, monsters and so on. So plan accordingly.\n",
    "\n",
    "\n",
    "While we have not gotten to classes take some time to try and code some simple classes. \n",
    "Here is an example:\n",
    "```python \n",
    "\n",
    "#Good\n",
    "class Sharps(object):\n",
    "    \"\"\"Create a sharp weapon\"\"\"\n",
    "    def __init__(self, name, length, age=1, damage=0):\n",
    "        \"\"\" Initialize name, age, and length damage attributes.\"\"\"\n",
    "        self.name = name\n",
    "        self.age = age\n",
    "        self.length = length\n",
    "        self.damage = damage\n",
    "    def do_damage(self, target):\n",
    "        target = target - self.damage\n",
    "\n",
    "class dager(Sharps):\n",
    "    \"\"\" makes a dager\"\"\"\n",
    "    def __init__(self, name, length, age=1, damage=0):\n",
    "        \"\"\"sets up a dagger\"\"\"\n",
    "        super().__init__(self, name, length, age, damage))\n",
    "        self.poision = True\n",
    "```\n",
    "        \n",
    "\n"
   ]
  },
  {
   "cell_type": "markdown",
   "id": "73b92c92",
   "metadata": {},
   "source": []
  },
  {
   "cell_type": "code",
   "execution_count": 25,
   "id": "0e2ec535",
   "metadata": {},
   "outputs": [
    {
     "name": "stdout",
     "output_type": "stream",
     "text": [
      "Here are your stats: \n",
      "Strength: 13\n",
      "Dexterity: 14\n",
      "Constitution: 9\n",
      "Intelligence: 11\n",
      "Wisdom: 13\n",
      "Charisma: 14\n"
     ]
    }
   ],
   "source": [
    "#stat generator\n",
    "def d6roll():\n",
    "    return random.randint(1,6)\n",
    "\n",
    "import random\n",
    "\n",
    "def statroll ():\n",
    "    statlist = []\n",
    "    for i in range(4):\n",
    "        statlist.append(d6roll())\n",
    "    statlist.remove(min(statlist))\n",
    "    finalstat = sum(statlist)\n",
    "    return(finalstat)\n",
    "\n",
    "STR = statroll()\n",
    "DEX = statroll()\n",
    "CON = statroll()\n",
    "INT = statroll()\n",
    "WIS = statroll()\n",
    "CHA = statroll()\n",
    "\n",
    "print(\"Here are your stats: \")\n",
    "print(\"Strength:\", STR)\n",
    "print(\"Dexterity:\", DEX)\n",
    "print(\"Constitution:\", CON)\n",
    "print(\"Intelligence:\", INT)\n",
    "print(\"Wisdom:\", WIS)\n",
    "print(\"Charisma:\", CHA)\n"
   ]
  }
 ],
 "metadata": {
  "kernelspec": {
   "display_name": "Python 3",
   "language": "python",
   "name": "python3"
  },
  "language_info": {
   "codemirror_mode": {
    "name": "ipython",
    "version": 3
   },
   "file_extension": ".py",
   "mimetype": "text/x-python",
   "name": "python",
   "nbconvert_exporter": "python",
   "pygments_lexer": "ipython3",
   "version": "3.13.1"
  }
 },
 "nbformat": 4,
 "nbformat_minor": 5
}
