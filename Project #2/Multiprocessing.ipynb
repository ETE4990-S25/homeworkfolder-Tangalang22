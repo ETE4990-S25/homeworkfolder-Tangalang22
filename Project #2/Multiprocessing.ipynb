{
 "cells": [
  {
   "cell_type": "code",
   "execution_count": 48,
   "metadata": {},
   "outputs": [
    {
     "name": "stdout",
     "output_type": "stream",
     "text": [
      "prime is:  392087\n",
      "fibonacci is:  317811\n",
      "factorial is:  3628800\n"
     ]
    }
   ],
   "source": [
    "from datetime import datetime, timedelta\n",
    "import multiprocessing\n",
    "from math import factorial\n",
    "\n",
    "def is_prime(n):\n",
    "    if n <= 1:\n",
    "        return False\n",
    "    for i in range(2, int(n ** 0.5) + 1):\n",
    "        if n % i == 0:\n",
    "            return False\n",
    "    return True\n",
    "\n",
    "end_time = datetime.now() + timedelta(seconds = 1)\n",
    "\n",
    "def find_prime():\n",
    "    x = 0 #start of prime iterator\n",
    "    while datetime.now() < end_time:\n",
    "        prime_check = is_prime(x)\n",
    "        if prime_check == True:\n",
    "            prime = x\n",
    "        x += 1\n",
    "    return prime\n",
    "\n",
    "def find_fib():\n",
    "    a = 0\n",
    "    b = 1\n",
    "    c = 0\n",
    "    fib = 0\n",
    "    while fib < optimusprime:\n",
    "        fib = a + b\n",
    "        c = a #c is for the final result because fib would return one iteration above what i wanted\n",
    "        a = b\n",
    "        b = fib\n",
    "        #print (fib)\n",
    "    return fib - c\n",
    "\n",
    "def find_fact():\n",
    "    factbase = 0\n",
    "    factresult = 0\n",
    "    while factresult < optimusprime:\n",
    "        factbase += 1\n",
    "        factresult = factorial(factbase - 1)\n",
    "        if factresult >= optimusprime:\n",
    "            break\n",
    "    return factresult\n",
    "\n",
    "optimusprime = find_prime()\n",
    "print(\"prime is: \", optimusprime)\n",
    "fibonacci = find_fib()\n",
    "print(\"fibonacci is: \", fibonacci)\n",
    "fact_prime = find_fact()\n",
    "print(\"factorial is: \", fact_prime)"
   ]
  }
 ],
 "metadata": {
  "kernelspec": {
   "display_name": "Python 3",
   "language": "python",
   "name": "python3"
  },
  "language_info": {
   "codemirror_mode": {
    "name": "ipython",
    "version": 3
   },
   "file_extension": ".py",
   "mimetype": "text/x-python",
   "name": "python",
   "nbconvert_exporter": "python",
   "pygments_lexer": "ipython3",
   "version": "3.13.1"
  }
 },
 "nbformat": 4,
 "nbformat_minor": 2
}
