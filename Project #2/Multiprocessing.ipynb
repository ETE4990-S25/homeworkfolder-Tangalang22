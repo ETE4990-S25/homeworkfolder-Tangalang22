{
 "cells": [
  {
   "cell_type": "code",
   "execution_count": null,
   "metadata": {},
   "outputs": [
    {
     "name": "stdout",
     "output_type": "stream",
     "text": [
      "prime is:  374333\n",
      "1\n",
      "2\n",
      "3\n",
      "5\n",
      "8\n",
      "13\n",
      "21\n",
      "34\n",
      "55\n",
      "89\n",
      "144\n",
      "233\n",
      "377\n",
      "610\n",
      "987\n",
      "1597\n",
      "2584\n",
      "4181\n",
      "6765\n",
      "10946\n",
      "17711\n",
      "28657\n",
      "46368\n",
      "75025\n",
      "121393\n",
      "196418\n",
      "317811\n",
      "514229\n"
     ]
    },
    {
     "data": {
      "text/plain": [
       "317811"
      ]
     },
     "execution_count": 31,
     "metadata": {},
     "output_type": "execute_result"
    }
   ],
   "source": [
    "from datetime import datetime, timedelta\n",
    "import multiprocessing\n",
    "\n",
    "def is_prime(n):\n",
    "    if n <= 1:\n",
    "        return False\n",
    "    for i in range(2, int(n ** 0.5) + 1):\n",
    "        if n % i == 0:\n",
    "            return False\n",
    "    return True\n",
    "\n",
    "end_time = datetime.now() + timedelta(seconds = 1)\n",
    "\n",
    "def find_prime():\n",
    "    x = 0 #start of prime iterator\n",
    "    while datetime.now() < end_time:\n",
    "        prime_check = is_prime(x)\n",
    "        if prime_check == True:\n",
    "            prime = x\n",
    "        x += 1\n",
    "    return prime\n",
    "\n",
    "def find_fib():\n",
    "    a = 0\n",
    "    b = 1\n",
    "    c = 0\n",
    "    fib = 0\n",
    "    while fib < optimusprime:\n",
    "        fib = a + b\n",
    "        c = a #c is for the final result because fib would return one iteration above what i wanted\n",
    "        a = b\n",
    "        b = fib\n",
    "        #print (fib)\n",
    "    return fib - c\n",
    "\n",
    "\n",
    "optimusprime = find_prime()\n",
    "print(\"prime is: \", optimusprime)\n",
    "#fibonacci = find_fib()\n",
    "#print(\"fibonacci is: \", fibonacci)\n",
    "find_fib()\n",
    "\n"
   ]
  }
 ],
 "metadata": {
  "kernelspec": {
   "display_name": "Python 3",
   "language": "python",
   "name": "python3"
  },
  "language_info": {
   "codemirror_mode": {
    "name": "ipython",
    "version": 3
   },
   "file_extension": ".py",
   "mimetype": "text/x-python",
   "name": "python",
   "nbconvert_exporter": "python",
   "pygments_lexer": "ipython3",
   "version": "3.13.1"
  }
 },
 "nbformat": 4,
 "nbformat_minor": 2
}
